{
 "cells": [
  {
   "cell_type": "code",
   "execution_count": 2,
   "metadata": {
    "slideshow": {
     "slide_type": "skip"
    }
   },
   "outputs": [],
   "source": [
    "from IPython.display import Image\n",
    "    \n",
    "\n",
    "def whoami():\n",
    "    print(\"Ali Murtadho\")\n",
    "    print(\"\"\"\n",
    "    {\n",
    "    \"story\" : {\n",
    "        1. study : [\n",
    "            - Informatic Engineering Student at UNTAG from 2016 - 2020,  \n",
    "        ],\n",
    "        2. work : {\n",
    "            - PT maestro Digital Utama  : [\n",
    "                *jan 2018- okt 2018,\n",
    "                *Programmer, \n",
    "            ],\n",
    "            - PT Codemi Global : [\n",
    "                *okt 2018 - apr 2019\n",
    "                *Front End Developer, \n",
    "            ],\n",
    "            -PT(ITS) -Trustmedis : [\n",
    "                *sep 2019 - jul 2021\n",
    "                *programmer\n",
    "                *backend dev\n",
    "                *RnD Fullstack dev\n",
    "            ]\n",
    "        }  \n",
    "      }\n",
    "    }\n",
    "\n",
    "    \"\"\")\n",
    "\n",
    "def whoami_old():\n",
    "    print(\"Background \")\n",
    "    print(\"\"\"\n",
    "    {\n",
    "    \"story\" :\n",
    "        3.community : [\n",
    "            -DSI (Data Science Indonesia) : [\n",
    "                *volunter and active research\n",
    "            ],\n",
    "            -Kotakode : [\n",
    "                *mentorship\n",
    "            ]\n",
    "        ], \n",
    "        {\n",
    "        1. lulusan teknik otomatif smk\n",
    "        2. bekerja sebagai tukang masak di warung spesial sambal\n",
    "        3. bekerja cctv sebagai teknisi\n",
    "        }\n",
    "    }\n",
    "    \"\"\")\n",
    "    \n",
    "def contact_me():\n",
    "    print(\"You can contact me on :\")\n",
    "    print(\"\"\"\n",
    "linkedin : https://www.linkedin.com/in/ali-murtadho\n",
    "telegram : t.me/alimurtadho_id\n",
    "ig       : @alimurtadho.id\n",
    "github   : @alimurtadho\n",
    "\"\"\")\n",
    "\n",
    "def tell_me_what_is():\n",
    "    print(\"\"\"\n",
    "The key to understanding what machine learning lies in the “AI” part. Computer Science, \n",
    "this is example simple implementation machine learning spam clasification  reaches the Data scientist or other end users, it is in a highly usable state.\n",
    "\"\"\")\n",
    "\n"
   ]
  },
  {
   "cell_type": "markdown",
   "metadata": {
    "slideshow": {
     "slide_type": "slide"
    }
   },
   "source": [
    "<img src=\"images/me.png\" align='center'/>"
   ]
  },
  {
   "cell_type": "code",
   "execution_count": 3,
   "metadata": {
    "slideshow": {
     "slide_type": "subslide"
    }
   },
   "outputs": [
    {
     "name": "stdout",
     "output_type": "stream",
     "text": [
      "Ali Murtadho\n",
      "\n",
      "    {\n",
      "    \"story\" : {\n",
      "        1. study : [\n",
      "            - Informatic Engineering Student at UNTAG from 2016 - 2020,  \n",
      "        ],\n",
      "        2. work : {\n",
      "            - PT maestro Digital Utama  : [\n",
      "                *jan 2018- okt 2018,\n",
      "                *Programmer, \n",
      "            ],\n",
      "            - PT Codemi Global : [\n",
      "                *okt 2018 - apr 2019\n",
      "                *Front End Developer, \n",
      "            ],\n",
      "            -PT(ITS) -Trustmedis : [\n",
      "                *sep 2019 - jul 2021\n",
      "                *programmer\n",
      "                *backend dev\n",
      "                *RnD Fullstack dev\n",
      "            ]\n",
      "        }  \n",
      "      }\n",
      "    }\n",
      "\n",
      "    \n"
     ]
    }
   ],
   "source": [
    "whoami()"
   ]
  },
  {
   "cell_type": "code",
   "execution_count": 3,
   "metadata": {
    "slideshow": {
     "slide_type": "slide"
    }
   },
   "outputs": [
    {
     "name": "stdout",
     "output_type": "stream",
     "text": [
      "You can contact me on :\n",
      "\n",
      "linkedin : https://www.linkedin.com/in/ali-murtadho\n",
      "telegram : t.me/alimurtadho_id\n",
      "ig       : @alimurtadho.id\n",
      "github   : @alimurtadho\n",
      "\n"
     ]
    }
   ],
   "source": [
    "contact_me()"
   ]
  },
  {
   "cell_type": "markdown",
   "metadata": {
    "slideshow": {
     "slide_type": "slide"
    }
   },
   "source": [
    "## The Session will cover :\n",
    "- Intro to Python & machine learning\n",
    "- implementation Supervised learning\n",
    "- Simple spam clasification machine learning\n",
    "- testing model machine learning\n",
    "\n",
    "## Won't cover\n",
    "- Advanced topic on Python & machine learning\n",
    "- data science or data engineering"
   ]
  },
  {
   "cell_type": "markdown",
   "metadata": {
    "slideshow": {
     "slide_type": "slide"
    }
   },
   "source": [
    "# So, what is \"Machine learning\" ?"
   ]
  },
  {
   "cell_type": "markdown",
   "metadata": {
    "slideshow": {
     "slide_type": "fragment"
    }
   },
   "source": [
    "Machine learning techniques are used to automatically find the valuable underlying patterns within complex data that we would otherwise struggle to discover. The hidden patterns and knowledge about a problem can be used to predict future events and perform all kinds of complex decision making**.\n",
    "\n",
    "Source : [towardsdatascience.com](https://towardsdatascience.com/machine-learning-an-introduction-23b84d51e6d0)"
   ]
  },
  {
   "cell_type": "markdown",
   "metadata": {
    "slideshow": {
     "slide_type": "slide"
    }
   },
   "source": [
    "## Data journey, in a modern data architecture"
   ]
  },
  {
   "cell_type": "markdown",
   "metadata": {
    "slideshow": {
     "slide_type": "fragment"
    }
   },
   "source": [
    "<img src=\"images/modern_data_arch.png\" />"
   ]
  },
  {
   "cell_type": "markdown",
   "metadata": {
    "slideshow": {
     "slide_type": "slide"
    }
   },
   "source": [
    "## Type Machine learning Application"
   ]
  },
  {
   "cell_type": "markdown",
   "metadata": {
    "slideshow": {
     "slide_type": "fragment"
    }
   },
   "source": [
    "<img src=\"images/type.png\" />"
   ]
  },
  {
   "cell_type": "markdown",
   "metadata": {
    "slideshow": {
     "slide_type": "slide"
    }
   },
   "source": [
    "## Machine learning Application"
   ]
  },
  {
   "cell_type": "markdown",
   "metadata": {
    "slideshow": {
     "slide_type": "fragment"
    }
   },
   "source": [
    "<img src=\"images/applications-of-machine-learning.png\" />"
   ]
  },
  {
   "cell_type": "markdown",
   "metadata": {
    "slideshow": {
     "slide_type": "slide"
    }
   },
   "source": [
    "# Why Python ?"
   ]
  },
  {
   "cell_type": "markdown",
   "metadata": {
    "slideshow": {
     "slide_type": "fragment"
    }
   },
   "source": [
    "- Free & Easy\n",
    "- Dynamic (OOP, Functional)\n",
    "- Multi OS (Windows, Linux, MacOS)\n",
    "- Multi purpose (Web App, Desktop App, DevOps, Mobile App, Gaming, Data science, Robotics, Big Data Engineering etc)\n"
   ]
  },
  {
   "cell_type": "markdown",
   "metadata": {
    "slideshow": {
     "slide_type": "fragment"
    }
   },
   "source": [
    "And yes, even i made this slides with Python.. 😊"
   ]
  },
  {
   "cell_type": "markdown",
   "metadata": {
    "slideshow": {
     "slide_type": "slide"
    }
   },
   "source": [
    "## Seriously, Python is Easy!"
   ]
  },
  {
   "cell_type": "markdown",
   "metadata": {
    "slideshow": {
     "slide_type": "fragment"
    }
   },
   "source": [
    "#### Hello World, in some other languages.."
   ]
  },
  {
   "cell_type": "code",
   "execution_count": null,
   "metadata": {
    "slideshow": {
     "slide_type": "slide"
    }
   },
   "outputs": [],
   "source": [
    "### C++ :\n",
    "\n",
    "#include <iostream>\n",
    "int main() {\n",
    "    std::cout << \"Hello, World!\";\n",
    "    return 0;\n",
    "}\n",
    "\n",
    "### Java :\n",
    "\n",
    "class HelloWorld {\n",
    "    public static void main(String[] args) {\n",
    "        System.out.println(\"Hello, World!\"); \n",
    "    }\n",
    "}"
   ]
  },
  {
   "cell_type": "markdown",
   "metadata": {
    "slideshow": {
     "slide_type": "fragment"
    }
   },
   "source": [
    "<img src=\"https://tlgrm.eu/_/stickers/df1/326/df1326f5-cd9b-44c4-b65d-3dbc3953f7c5/12.jpg\" width=300px />"
   ]
  },
  {
   "cell_type": "markdown",
   "metadata": {
    "slideshow": {
     "slide_type": "slide"
    }
   },
   "source": [
    "### Hello World, in Python"
   ]
  },
  {
   "cell_type": "code",
   "execution_count": null,
   "metadata": {
    "slideshow": {
     "slide_type": "fragment"
    }
   },
   "outputs": [],
   "source": [
    "print(\"Hello, World!\")"
   ]
  },
  {
   "cell_type": "markdown",
   "metadata": {
    "slideshow": {
     "slide_type": "fragment"
    }
   },
   "source": [
    "<img src=\"https://tlgrm.eu/_/stickers/df1/326/df1326f5-cd9b-44c4-b65d-3dbc3953f7c5/2.jpg\" width=300px />"
   ]
  },
  {
   "cell_type": "markdown",
   "metadata": {
    "slideshow": {
     "slide_type": "slide"
    }
   },
   "source": [
    "### Python ecosystem for Data Science"
   ]
  },
  {
   "cell_type": "markdown",
   "metadata": {
    "slideshow": {
     "slide_type": "fragment"
    }
   },
   "source": [
    "<img src=\"images/python_data_landscape.png\" />"
   ]
  },
  {
   "cell_type": "markdown",
   "metadata": {},
   "source": [
    "Need more ? check this : [Machine Learning ecosystem](https://machinelearningmastery.com/python-ecosystem-machine-learning/)"
   ]
  },
  {
   "cell_type": "markdown",
   "metadata": {
    "slideshow": {
     "slide_type": "slide"
    }
   },
   "source": [
    "<img src=\"images/show_me_the_code.png\" height=100 />\n"
   ]
  },
  {
   "cell_type": "markdown",
   "metadata": {
    "slideshow": {
     "slide_type": "slide"
    }
   },
   "source": [
    "### Ok, let's jump in!\n",
    "[Google Colaboration](https://colab.research.google.com/drive/1Q3UVBqcNbUuqQkXUjawiZRtNp3JWfoEA)"
   ]
  },
  {
   "cell_type": "markdown",
   "metadata": {
    "slideshow": {
     "slide_type": "slide"
    }
   },
   "source": [
    "<img src=\"images/thank.png\" height=100 />\n"
   ]
  },
  {
   "cell_type": "code",
   "execution_count": null,
   "metadata": {},
   "outputs": [],
   "source": []
  }
 ],
 "metadata": {
  "celltoolbar": "Slideshow",
  "kernelspec": {
   "display_name": "Python 3",
   "language": "python",
   "name": "python3"
  },
  "language_info": {
   "codemirror_mode": {
    "name": "ipython",
    "version": 3
   },
   "file_extension": ".py",
   "mimetype": "text/x-python",
   "name": "python",
   "nbconvert_exporter": "python",
   "pygments_lexer": "ipython3",
   "version": "3.8.7"
  }
 },
 "nbformat": 4,
 "nbformat_minor": 5
}
